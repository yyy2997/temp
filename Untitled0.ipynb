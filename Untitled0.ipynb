{
  "nbformat": 4,
  "nbformat_minor": 0,
  "metadata": {
    "colab": {
      "name": "Untitled0.ipynb",
      "version": "0.3.2",
      "provenance": [],
      "collapsed_sections": [],
      "include_colab_link": true
    },
    "kernelspec": {
      "name": "python3",
      "display_name": "Python 3"
    }
  },
  "cells": [
    {
      "cell_type": "markdown",
      "metadata": {
        "id": "view-in-github",
        "colab_type": "text"
      },
      "source": [
        "<a href=\"https://colab.research.google.com/github/yyy2997/temp/blob/master/Untitled0.ipynb\" target=\"_parent\"><img src=\"https://colab.research.google.com/assets/colab-badge.svg\" alt=\"Open In Colab\"/></a>"
      ]
    },
    {
      "cell_type": "code",
      "metadata": {
        "id": "DKsmssKCY_kD",
        "colab_type": "code",
        "colab": {
          "base_uri": "https://localhost:8080/",
          "height": 122
        },
        "outputId": "13a38088-1366-440d-fca5-1f87858e7bcf"
      },
      "source": [
        "import requests\n",
        "from http.cookies import SimpleCookie\n",
        "\n",
        "raw_cookie = r'dc_tos=psperv; Hm_lpvt_6bcd52f51e9b3dce32bec4a3997715ac=1559869195'\n",
        "cookie = SimpleCookie(raw_cookie)\n",
        "requests_cookies = dict([(c, cookie[c].value) for c in cookie])\n",
        "\n",
        "headers = {'user-agent': 'Mozilla/5.0 (Windows NT 6.3; Win64; x64) AppleWebKit/537.36 (KHTML, like Gecko) Chrome/69.0.3497.100 Safari/537.36'}\n",
        "\n",
        "session = requests.session()\n",
        "\n",
        "\n",
        "r = session.get('https://i.csdn.net/#/uc/profile',headers=headers,cookies=requests_cookies)\n",
        "\n",
        "print(r.text)"
      ],
      "execution_count": 5,
      "outputs": [
        {
          "output_type": "stream",
          "text": [
            "<!DOCTYPE html><html><head><meta charset=utf-8><meta name=referrer content=always><meta name=viewport content=\"width=device-width,initial-scale=1\"><meta name=renderer content=webkit><meta name=force-rendering content=webkit><meta http-equiv=X-UA-Compatible content=\"IE=Edge,chrome=1\"><meta name=track content='{\"pid\":\"i\",\"disabled\":true}'><link href=https://csdnimg.cn/public/favicon.ico rel=\"SHORTCUT ICON\"><link rel=stylesheet href=./static/lib/skeleton.css><link rel=stylesheet href=//csdnimg.cn/public/common/toolbar/content_toolbar_css/content_toolbar.css><link href=/static/css/app.cf0912d3e32429e4aff389f9d6cc97f1.css rel=stylesheet></head><body><div id=app></div><div id=skeleton><div class=navBar></div><div class=main_con><div class=main_con_l><ul><li></li><li></li><li></li><li></li><li></li></ul></div><div class=main_con_r><div class=main_con_r_t><div class=main_con_r_t_con></div></div><dl class=main_con_r_list><dd><div class=list_t><span></span> <strong></strong></div><div class=list_b><p></p><p></p><p></p><p></p><p></p><p></p><p></p></div></dd></dl></div></div></div><script src=https://g.csdnimg.cn/??lib/jquery/1.12.4/jquery.min.js,track/1.1.1/track.js,iconfont/1.0.0/global.js charset=utf-8></script><!--[if lt IE 9]>\n",
            "<script>window.location.href=\"https://g.csdnimg.cn/browser_upgrade/1.0.2/index.html\";</script>\n",
            "<![endif]--><!--[if gte IE 9]>\n",
            "<script src=\"https://g.csdnimg.cn/browser_upgrade/1.0.2/browser_upgrade.js\"></script>\n",
            "<![endif]--><script type=text/javascript src=//castatic.fengkongcloud.com/pr/v1.0.1/smcp.min.js></script><script src=//csdnimg.cn/public/common/toolbar/js/content_toolbar.js type=text/javascript></script><script type=text/javascript src=//csdnimg.cn/pubfooter/js/publib_footer-1.0.2.js></script><script></script><script type=text/javascript src=/static/js/manifest.2ecf55d310944842efb8.js></script><script type=text/javascript src=/static/js/vendor.da470e3a122e29e709be.js></script><script type=text/javascript src=/static/js/app.e6b9de5492c0f6f6d4c1.js></script></body></html>\n"
          ],
          "name": "stdout"
        }
      ]
    },
    {
      "cell_type": "markdown",
      "metadata": {
        "id": "jlYzZ9Kidb1r",
        "colab_type": "text"
      },
      "source": [
        ""
      ]
    },
    {
      "cell_type": "markdown",
      "metadata": {
        "id": "gpeH7JqRdVM7",
        "colab_type": "text"
      },
      "source": [
        ""
      ]
    }
  ]
}